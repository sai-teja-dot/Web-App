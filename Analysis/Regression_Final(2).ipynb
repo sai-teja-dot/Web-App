{
  "nbformat": 4,
  "nbformat_minor": 0,
  "metadata": {
    "kernelspec": {
      "display_name": "Python 3",
      "language": "python",
      "name": "python3"
    },
    "language_info": {
      "codemirror_mode": {
        "name": "ipython",
        "version": 3
      },
      "file_extension": ".py",
      "mimetype": "text/x-python",
      "name": "python",
      "nbconvert_exporter": "python",
      "pygments_lexer": "ipython3",
      "version": "3.7.4"
    },
    "colab": {
      "name": "Regression_Final.ipynb",
      "provenance": []
    }
  },
  "cells": [
    {
      "cell_type": "code",
      "metadata": {
        "id": "4C6wCNI3NRhk",
        "colab_type": "code",
        "colab": {}
      },
      "source": [
        "import pandas as pd\n",
        "import numpy as np\n",
        "import matplotlib.pyplot as plt\n",
        "from sklearn import linear_model"
      ],
      "execution_count": 0,
      "outputs": []
    },
    {
      "cell_type": "code",
      "metadata": {
        "id": "luGOIpbUNRkj",
        "colab_type": "code",
        "outputId": "aa5c99c3-2128-4c2b-b857-ce36b6bc37ea",
        "colab": {
          "base_uri": "https://localhost:8080/",
          "height": 609
        }
      },
      "source": [
        "df = pd.read_csv(r'/content/Level_data.csv')\n",
        "df\n"
      ],
      "execution_count": 4,
      "outputs": [
        {
          "output_type": "execute_result",
          "data": {
            "text/html": [
              "<div>\n",
              "<style scoped>\n",
              "    .dataframe tbody tr th:only-of-type {\n",
              "        vertical-align: middle;\n",
              "    }\n",
              "\n",
              "    .dataframe tbody tr th {\n",
              "        vertical-align: top;\n",
              "    }\n",
              "\n",
              "    .dataframe thead th {\n",
              "        text-align: right;\n",
              "    }\n",
              "</style>\n",
              "<table border=\"1\" class=\"dataframe\">\n",
              "  <thead>\n",
              "    <tr style=\"text-align: right;\">\n",
              "      <th></th>\n",
              "      <th>data__units__category</th>\n",
              "      <th>data__units__consumption</th>\n",
              "      <th>data__units__cost</th>\n",
              "      <th>data__units__created_on</th>\n",
              "      <th>data__units__flow_factor</th>\n",
              "      <th>data__units__height</th>\n",
              "      <th>data__units__height.1</th>\n",
              "      <th>data__units__max_capacity</th>\n",
              "      <th>data__units__process_consumption</th>\n",
              "      <th>data__units__process_level</th>\n",
              "      <th>data__units__unit_id</th>\n",
              "      <th>data__units__unit_name</th>\n",
              "      <th>data__units__unit_threshold</th>\n",
              "      <th>status</th>\n",
              "      <th>1</th>\n",
              "    </tr>\n",
              "  </thead>\n",
              "  <tbody>\n",
              "    <tr>\n",
              "      <th>0</th>\n",
              "      <td>Storage</td>\n",
              "      <td>0</td>\n",
              "      <td>0</td>\n",
              "      <td>Mon, 13 Apr 2020 00:03:45 GMT</td>\n",
              "      <td>1</td>\n",
              "      <td>10</td>\n",
              "      <td>63</td>\n",
              "      <td>100000</td>\n",
              "      <td>0</td>\n",
              "      <td>79330.70</td>\n",
              "      <td>DEMO1SU2</td>\n",
              "      <td>OHT</td>\n",
              "      <td>10</td>\n",
              "      <td>NaN</td>\n",
              "      <td>145</td>\n",
              "    </tr>\n",
              "    <tr>\n",
              "      <th>1</th>\n",
              "      <td>Storage</td>\n",
              "      <td>0</td>\n",
              "      <td>0</td>\n",
              "      <td>Mon, 13 Apr 2020 00:13:47 GMT</td>\n",
              "      <td>1</td>\n",
              "      <td>10</td>\n",
              "      <td>63</td>\n",
              "      <td>100000</td>\n",
              "      <td>0</td>\n",
              "      <td>79330.70</td>\n",
              "      <td>DEMO1SU2</td>\n",
              "      <td>OHT</td>\n",
              "      <td>10</td>\n",
              "      <td>NaN</td>\n",
              "      <td>144</td>\n",
              "    </tr>\n",
              "    <tr>\n",
              "      <th>2</th>\n",
              "      <td>Storage</td>\n",
              "      <td>0</td>\n",
              "      <td>0</td>\n",
              "      <td>Mon, 13 Apr 2020 00:23:49 GMT</td>\n",
              "      <td>1</td>\n",
              "      <td>10</td>\n",
              "      <td>63</td>\n",
              "      <td>100000</td>\n",
              "      <td>0</td>\n",
              "      <td>79330.70</td>\n",
              "      <td>DEMO1SU2</td>\n",
              "      <td>OHT</td>\n",
              "      <td>10</td>\n",
              "      <td>NaN</td>\n",
              "      <td>143</td>\n",
              "    </tr>\n",
              "    <tr>\n",
              "      <th>3</th>\n",
              "      <td>Storage</td>\n",
              "      <td>0</td>\n",
              "      <td>0</td>\n",
              "      <td>Mon, 13 Apr 2020 00:33:51 GMT</td>\n",
              "      <td>1</td>\n",
              "      <td>10</td>\n",
              "      <td>64</td>\n",
              "      <td>100000</td>\n",
              "      <td>0</td>\n",
              "      <td>79002.62</td>\n",
              "      <td>DEMO1SU2</td>\n",
              "      <td>OHT</td>\n",
              "      <td>10</td>\n",
              "      <td>NaN</td>\n",
              "      <td>142</td>\n",
              "    </tr>\n",
              "    <tr>\n",
              "      <th>4</th>\n",
              "      <td>Storage</td>\n",
              "      <td>0</td>\n",
              "      <td>0</td>\n",
              "      <td>Mon, 13 Apr 2020 00:43:53 GMT</td>\n",
              "      <td>1</td>\n",
              "      <td>10</td>\n",
              "      <td>63</td>\n",
              "      <td>100000</td>\n",
              "      <td>0</td>\n",
              "      <td>79330.70</td>\n",
              "      <td>DEMO1SU2</td>\n",
              "      <td>OHT</td>\n",
              "      <td>10</td>\n",
              "      <td>NaN</td>\n",
              "      <td>141</td>\n",
              "    </tr>\n",
              "    <tr>\n",
              "      <th>...</th>\n",
              "      <td>...</td>\n",
              "      <td>...</td>\n",
              "      <td>...</td>\n",
              "      <td>...</td>\n",
              "      <td>...</td>\n",
              "      <td>...</td>\n",
              "      <td>...</td>\n",
              "      <td>...</td>\n",
              "      <td>...</td>\n",
              "      <td>...</td>\n",
              "      <td>...</td>\n",
              "      <td>...</td>\n",
              "      <td>...</td>\n",
              "      <td>...</td>\n",
              "      <td>...</td>\n",
              "    </tr>\n",
              "    <tr>\n",
              "      <th>139</th>\n",
              "      <td>Storage</td>\n",
              "      <td>0</td>\n",
              "      <td>0</td>\n",
              "      <td>Mon, 13 Apr 2020 23:18:23 GMT</td>\n",
              "      <td>1</td>\n",
              "      <td>10</td>\n",
              "      <td>44</td>\n",
              "      <td>100000</td>\n",
              "      <td>0</td>\n",
              "      <td>85564.30</td>\n",
              "      <td>DEMO1SU2</td>\n",
              "      <td>OHT</td>\n",
              "      <td>10</td>\n",
              "      <td>NaN</td>\n",
              "      <td>6</td>\n",
              "    </tr>\n",
              "    <tr>\n",
              "      <th>140</th>\n",
              "      <td>Storage</td>\n",
              "      <td>0</td>\n",
              "      <td>0</td>\n",
              "      <td>Mon, 13 Apr 2020 23:28:25 GMT</td>\n",
              "      <td>1</td>\n",
              "      <td>10</td>\n",
              "      <td>41</td>\n",
              "      <td>100000</td>\n",
              "      <td>0</td>\n",
              "      <td>86548.55</td>\n",
              "      <td>DEMO1SU2</td>\n",
              "      <td>OHT</td>\n",
              "      <td>10</td>\n",
              "      <td>NaN</td>\n",
              "      <td>5</td>\n",
              "    </tr>\n",
              "    <tr>\n",
              "      <th>141</th>\n",
              "      <td>Storage</td>\n",
              "      <td>0</td>\n",
              "      <td>0</td>\n",
              "      <td>Mon, 13 Apr 2020 23:38:27 GMT</td>\n",
              "      <td>1</td>\n",
              "      <td>10</td>\n",
              "      <td>42</td>\n",
              "      <td>100000</td>\n",
              "      <td>0</td>\n",
              "      <td>86220.47</td>\n",
              "      <td>DEMO1SU2</td>\n",
              "      <td>OHT</td>\n",
              "      <td>10</td>\n",
              "      <td>NaN</td>\n",
              "      <td>4</td>\n",
              "    </tr>\n",
              "    <tr>\n",
              "      <th>142</th>\n",
              "      <td>Storage</td>\n",
              "      <td>0</td>\n",
              "      <td>0</td>\n",
              "      <td>Mon, 13 Apr 2020 23:48:29 GMT</td>\n",
              "      <td>1</td>\n",
              "      <td>10</td>\n",
              "      <td>42</td>\n",
              "      <td>100000</td>\n",
              "      <td>0</td>\n",
              "      <td>86220.47</td>\n",
              "      <td>DEMO1SU2</td>\n",
              "      <td>OHT</td>\n",
              "      <td>10</td>\n",
              "      <td>NaN</td>\n",
              "      <td>3</td>\n",
              "    </tr>\n",
              "    <tr>\n",
              "      <th>143</th>\n",
              "      <td>Storage</td>\n",
              "      <td>0</td>\n",
              "      <td>0</td>\n",
              "      <td>Mon, 13 Apr 2020 23:58:31 GMT</td>\n",
              "      <td>1</td>\n",
              "      <td>10</td>\n",
              "      <td>42</td>\n",
              "      <td>100000</td>\n",
              "      <td>0</td>\n",
              "      <td>86220.47</td>\n",
              "      <td>DEMO1SU2</td>\n",
              "      <td>OHT</td>\n",
              "      <td>10</td>\n",
              "      <td>success</td>\n",
              "      <td>2</td>\n",
              "    </tr>\n",
              "  </tbody>\n",
              "</table>\n",
              "<p>144 rows × 15 columns</p>\n",
              "</div>"
            ],
            "text/plain": [
              "    data__units__category  data__units__consumption  ...   status    1\n",
              "0                 Storage                         0  ...      NaN  145\n",
              "1                 Storage                         0  ...      NaN  144\n",
              "2                 Storage                         0  ...      NaN  143\n",
              "3                 Storage                         0  ...      NaN  142\n",
              "4                 Storage                         0  ...      NaN  141\n",
              "..                    ...                       ...  ...      ...  ...\n",
              "139               Storage                         0  ...      NaN    6\n",
              "140               Storage                         0  ...      NaN    5\n",
              "141               Storage                         0  ...      NaN    4\n",
              "142               Storage                         0  ...      NaN    3\n",
              "143               Storage                         0  ...  success    2\n",
              "\n",
              "[144 rows x 15 columns]"
            ]
          },
          "metadata": {
            "tags": []
          },
          "execution_count": 4
        }
      ]
    },
    {
      "cell_type": "code",
      "metadata": {
        "id": "oHS7Z3BEK0Cm",
        "colab_type": "code",
        "outputId": "fd32a75e-f075-4100-9a3a-d7b67fd5faf4",
        "colab": {
          "base_uri": "https://localhost:8080/",
          "height": 122
        }
      },
      "source": [
        "for i in range(144):#df.shape[0]):\n",
        "  df.data__units__created_on[i] = str(int(df.data__units__created_on[i][17:19]) * 60 + int(df.data__units__created_on[i][20:22]) + int(df.data__units__created_on[i][23:24])/60)\n"
      ],
      "execution_count": 5,
      "outputs": [
        {
          "output_type": "stream",
          "text": [
            "/usr/local/lib/python3.6/dist-packages/ipykernel_launcher.py:2: SettingWithCopyWarning: \n",
            "A value is trying to be set on a copy of a slice from a DataFrame\n",
            "\n",
            "See the caveats in the documentation: https://pandas.pydata.org/pandas-docs/stable/user_guide/indexing.html#returning-a-view-versus-a-copy\n",
            "  \n"
          ],
          "name": "stderr"
        }
      ]
    },
    {
      "cell_type": "code",
      "metadata": {
        "id": "K4wJfbg1N5l9",
        "colab_type": "code",
        "outputId": "4f83b52c-7cc1-445c-a6ab-7333dc6bbd51",
        "colab": {
          "base_uri": "https://localhost:8080/",
          "height": 221
        }
      },
      "source": [
        "df.data__units__created_on"
      ],
      "execution_count": 6,
      "outputs": [
        {
          "output_type": "execute_result",
          "data": {
            "text/plain": [
              "0       3.066666666666667\n",
              "1      13.066666666666666\n",
              "2      23.066666666666666\n",
              "3      33.083333333333336\n",
              "4      43.083333333333336\n",
              "              ...        \n",
              "139    1398.0333333333333\n",
              "140    1408.0333333333333\n",
              "141    1418.0333333333333\n",
              "142    1428.0333333333333\n",
              "143               1438.05\n",
              "Name: data__units__created_on, Length: 144, dtype: object"
            ]
          },
          "metadata": {
            "tags": []
          },
          "execution_count": 6
        }
      ]
    },
    {
      "cell_type": "code",
      "metadata": {
        "id": "Xyxa5aVQLO6U",
        "colab_type": "code",
        "outputId": "571858f7-595d-4d42-a3c2-cfb9e486607f",
        "colab": {
          "base_uri": "https://localhost:8080/",
          "height": 221
        }
      },
      "source": [
        "df.data__units__process_level"
      ],
      "execution_count": 7,
      "outputs": [
        {
          "output_type": "execute_result",
          "data": {
            "text/plain": [
              "0      79330.70\n",
              "1      79330.70\n",
              "2      79330.70\n",
              "3      79002.62\n",
              "4      79330.70\n",
              "         ...   \n",
              "139    85564.30\n",
              "140    86548.55\n",
              "141    86220.47\n",
              "142    86220.47\n",
              "143    86220.47\n",
              "Name: data__units__process_level, Length: 144, dtype: float64"
            ]
          },
          "metadata": {
            "tags": []
          },
          "execution_count": 7
        }
      ]
    },
    {
      "cell_type": "code",
      "metadata": {
        "id": "JlxIBdD4NRmO",
        "colab_type": "code",
        "outputId": "85c5cc26-0c87-4002-a565-0b932244ee6f",
        "colab": {
          "base_uri": "https://localhost:8080/",
          "height": 265
        }
      },
      "source": [
        "from IPython import get_ipython\n",
        "ipy = get_ipython()\n",
        "if ipy is not None:\n",
        "    ipy.run_line_magic('matplotlib', 'inline')\n",
        "    plt.scatter(df.data__units__created_on,df.data__units__process_level)"
      ],
      "execution_count": 8,
      "outputs": [
        {
          "output_type": "display_data",
          "data": {
            "image/png": "[encoded data removed]",
            "text/plain": [
              "<Figure size 432x288 with 1 Axes>"
            ]
          },
          "metadata": {
            "tags": [],
            "needs_background": "light"
          }
        }
      ]
    },
    {
      "cell_type": "code",
      "metadata": {
        "id": "TXsT-NDNcmo9",
        "colab_type": "code",
        "colab": {}
      },
      "source": [
        "from sklearn import preprocessing\n",
        "\n",
        "lab_enc = preprocessing.LabelEncoder()\n",
        "encoded = lab_enc.fit_transform(df.data__units__process_level)\n",
        "\n",
        "df.data__units__process_level = np.array(encoded).reshape(-1,1)"
      ],
      "execution_count": 0,
      "outputs": []
    },
    {
      "cell_type": "code",
      "metadata": {
        "id": "PIT0OtcoNRxI",
        "colab_type": "code",
        "outputId": "6c69c0fc-9b14-49aa-fe01-d7747a4ad22f",
        "colab": {
          "base_uri": "https://localhost:8080/",
          "height": 258
        }
      },
      "source": [
        "from sklearn.linear_model import LogisticRegression\n",
        "#create an instance and fit the model \n",
        "logmodel = LogisticRegression()\n",
        "logmodel.fit(df[['data__units__created_on']],df.data__units__process_level)"
      ],
      "execution_count": 10,
      "outputs": [
        {
          "output_type": "stream",
          "text": [
            "/usr/local/lib/python3.6/dist-packages/sklearn/linear_model/_logistic.py:940: ConvergenceWarning: lbfgs failed to converge (status=1):\n",
            "STOP: TOTAL NO. of ITERATIONS REACHED LIMIT.\n",
            "\n",
            "Increase the number of iterations (max_iter) or scale the data as shown in:\n",
            "    https://scikit-learn.org/stable/modules/preprocessing.html\n",
            "Please also refer to the documentation for alternative solver options:\n",
            "    https://scikit-learn.org/stable/modules/linear_model.html#logistic-regression\n",
            "  extra_warning_msg=_LOGISTIC_SOLVER_CONVERGENCE_MSG)\n"
          ],
          "name": "stderr"
        },
        {
          "output_type": "execute_result",
          "data": {
            "text/plain": [
              "LogisticRegression(C=1.0, class_weight=None, dual=False, fit_intercept=True,\n",
              "                   intercept_scaling=1, l1_ratio=None, max_iter=100,\n",
              "                   multi_class='auto', n_jobs=None, penalty='l2',\n",
              "                   random_state=None, solver='lbfgs', tol=0.0001, verbose=0,\n",
              "                   warm_start=False)"
            ]
          },
          "metadata": {
            "tags": []
          },
          "execution_count": 10
        }
      ]
    },
    {
      "cell_type": "code",
      "metadata": {
        "id": "m-xA4ungOxoO",
        "colab_type": "code",
        "outputId": "ddd4c669-0d60-4927-f942-d9b79c13b052",
        "colab": {
          "base_uri": "https://localhost:8080/",
          "height": 282
        }
      },
      "source": [
        "plt.plot(df.data__units__created_on,logmodel.predict(df[['data__units__created_on']]))\n",
        "plt.scatter(df.data__units__created_on,df.data__units__process_level)"
      ],
      "execution_count": 11,
      "outputs": [
        {
          "output_type": "execute_result",
          "data": {
            "text/plain": [
              "<matplotlib.collections.PathCollection at 0x7f8206d08048>"
            ]
          },
          "metadata": {
            "tags": []
          },
          "execution_count": 11
        },
        {
          "output_type": "display_data",
          "data": {
            "image/png": "[encoded data removed]",
            "text/plain": [
              "<Figure size 432x288 with 1 Axes>"
            ]
          },
          "metadata": {
            "tags": [],
            "needs_background": "light"
          }
        }
      ]
    },
    {
      "cell_type": "code",
      "metadata": {
        "id": "Se2vN6eEdf5h",
        "colab_type": "code",
        "outputId": "336035ac-4aa9-4b73-8916-7c0b546f6d27",
        "colab": {
          "base_uri": "https://localhost:8080/",
          "height": 1000
        }
      },
      "source": [
        "np.array(lab_enc.inverse_transform(df.data__units__process_level)).reshape(-1,1)"
      ],
      "execution_count": 12,
      "outputs": [
        {
          "output_type": "execute_result",
          "data": {
            "text/plain": [
              "array([[79330.7 ],\n",
              "       [79330.7 ],\n",
              "       [79330.7 ],\n",
              "       [79002.62],\n",
              "       [79330.7 ],\n",
              "       [79002.62],\n",
              "       [79330.7 ],\n",
              "       [79330.7 ],\n",
              "       [79002.62],\n",
              "       [79002.62],\n",
              "       [79002.62],\n",
              "       [79330.7 ],\n",
              "       [79002.62],\n",
              "       [79002.62],\n",
              "       [79002.62],\n",
              "       [79002.62],\n",
              "       [79002.62],\n",
              "       [79002.62],\n",
              "       [79002.62],\n",
              "       [79002.62],\n",
              "       [79330.7 ],\n",
              "       [79002.62],\n",
              "       [79002.62],\n",
              "       [79002.62],\n",
              "       [79330.7 ],\n",
              "       [79002.62],\n",
              "       [79002.62],\n",
              "       [79330.7 ],\n",
              "       [79002.62],\n",
              "       [79330.7 ],\n",
              "       [79330.7 ],\n",
              "       [79330.7 ],\n",
              "       [79330.7 ],\n",
              "       [79002.62],\n",
              "       [79330.7 ],\n",
              "       [79002.62],\n",
              "       [79002.62],\n",
              "       [79330.7 ],\n",
              "       [78674.54],\n",
              "       [78674.54],\n",
              "       [79002.62],\n",
              "       [78346.45],\n",
              "       [79002.62],\n",
              "       [78674.54],\n",
              "       [78346.45],\n",
              "       [77690.28],\n",
              "       [78346.45],\n",
              "       [78018.37],\n",
              "       [79002.62],\n",
              "       [79330.7 ],\n",
              "       [79002.62],\n",
              "       [78346.45],\n",
              "       [77362.2 ],\n",
              "       [78674.54],\n",
              "       [79658.79],\n",
              "       [79330.7 ],\n",
              "       [79330.7 ],\n",
              "       [79330.7 ],\n",
              "       [79330.7 ],\n",
              "       [77034.12],\n",
              "       [79002.62],\n",
              "       [79002.62],\n",
              "       [77362.2 ],\n",
              "       [79002.62],\n",
              "       [76377.95],\n",
              "       [79330.7 ],\n",
              "       [79658.79],\n",
              "       [79658.79],\n",
              "       [79658.79],\n",
              "       [78018.37],\n",
              "       [78018.37],\n",
              "       [79330.7 ],\n",
              "       [79658.79],\n",
              "       [79658.79],\n",
              "       [79658.79],\n",
              "       [79658.79],\n",
              "       [79986.87],\n",
              "       [79986.87],\n",
              "       [78018.37],\n",
              "       [81627.29],\n",
              "       [78674.54],\n",
              "       [81955.38],\n",
              "       [81299.21],\n",
              "       [81299.21],\n",
              "       [81299.21],\n",
              "       [81299.21],\n",
              "       [84580.05],\n",
              "       [84251.96],\n",
              "       [84580.05],\n",
              "       [84908.13],\n",
              "       [82611.54],\n",
              "       [85564.3 ],\n",
              "       [78674.54],\n",
              "       [78674.54],\n",
              "       [85564.3 ],\n",
              "       [83267.71],\n",
              "       [84251.96],\n",
              "       [81299.21],\n",
              "       [83267.71],\n",
              "       [86548.55],\n",
              "       [83923.88],\n",
              "       [83923.88],\n",
              "       [83923.88],\n",
              "       [84251.96],\n",
              "       [86876.64],\n",
              "       [90157.48],\n",
              "       [87204.72],\n",
              "       [86548.55],\n",
              "       [89829.39],\n",
              "       [89173.22],\n",
              "       [86220.47],\n",
              "       [85892.38],\n",
              "       [85892.38],\n",
              "       [86220.47],\n",
              "       [86548.55],\n",
              "       [85892.38],\n",
              "       [86220.47],\n",
              "       [85892.38],\n",
              "       [85892.38],\n",
              "       [85892.38],\n",
              "       [85564.3 ],\n",
              "       [86548.55],\n",
              "       [86220.47],\n",
              "       [86220.47],\n",
              "       [86220.47],\n",
              "       [85892.38],\n",
              "       [85892.38],\n",
              "       [89829.39],\n",
              "       [89173.22],\n",
              "       [86220.47],\n",
              "       [85892.38],\n",
              "       [85892.38],\n",
              "       [86220.47],\n",
              "       [86548.55],\n",
              "       [85892.38],\n",
              "       [86220.47],\n",
              "       [85892.38],\n",
              "       [85892.38],\n",
              "       [85892.38],\n",
              "       [85564.3 ],\n",
              "       [86548.55],\n",
              "       [86220.47],\n",
              "       [86220.47],\n",
              "       [86220.47]])"
            ]
          },
          "metadata": {
            "tags": []
          },
          "execution_count": 12
        }
      ]
    },
    {
      "cell_type": "code",
      "metadata": {
        "id": "wzSNDSyMfaeh",
        "colab_type": "code",
        "colab": {}
      },
      "source": [
        ""
      ],
      "execution_count": 0,
      "outputs": []
    }
  ]
}